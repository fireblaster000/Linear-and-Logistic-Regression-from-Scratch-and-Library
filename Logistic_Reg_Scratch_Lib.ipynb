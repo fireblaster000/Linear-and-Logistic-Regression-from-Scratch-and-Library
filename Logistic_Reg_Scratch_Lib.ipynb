{
  "cells": [
    {
      "cell_type": "markdown",
      "id": "03373c37",
      "metadata": {
        "id": "03373c37"
      },
      "source": [
        "# Logistic Regression\n",
        "\n",
        "### Introduction\n",
        "\n",
        "We will be implementing Logistic Regression models for the provided dataset from scratch and using scikit-learn."
      ]
    },
    {
      "cell_type": "markdown",
      "id": "b5216e2a",
      "metadata": {
        "id": "b5216e2a",
        "tags": [
          "parameters"
        ]
      },
      "source": [
        "## Logistic Regression\n",
        "\n",
        "The purpose of this implementation is to get familiar with Sentiment Classification. By the end of this, we will have your very own “Sentiment Analyzer”.\n",
        "\n",
        "We are given with Large Movie Review Dataset that contains separate labeled train and test set. Our task is to train a Logistic Regression classifier on train set and report accuracy on test set.\n",
        "\n",
        "\n",
        "#### Dataset\n",
        "\n",
        "The core dataset contains 50,000 reviews split evenly into 25k train and 25k test sets. The overall distribution of labels is balanced (25k pos and 25k neg).\n",
        "\n",
        "There are two top-level directories `[train/, test/]` corresponding to the training and test sets. Each contains `[pos/, neg/]` directories for the reviews with binary labels positive and negative. Within these directories, reviews are stored in text files named following the convention `<id>_<rating>.txt` where `id` is a unique id and `rating` is the star rating for that review on a 1-10 scale.\n"
      ]
    },
    {
      "cell_type": "code",
      "execution_count": null,
      "id": "c6ec0d6e",
      "metadata": {
        "id": "c6ec0d6e"
      },
      "outputs": [
        {
          "name": "stdout",
          "output_type": "stream",
          "text": [
            "Size of the training dataset: 25000\n",
            "Size of the testing dataset: 25000\n"
          ]
        }
      ],
      "source": [
        "import os\n",
        "import random\n",
        "\n",
        "train_path = r'LogisticReg_Dataset\\train'\n",
        "test_path = r'LogisticReg_Dataset\\test'\n",
        "\n",
        "def data_loading(path):\n",
        "    data = []\n",
        "    for analysis, label in [('pos', 1), ('neg', 0)]:\n",
        "        analysis_area = os.path.join(path, analysis)\n",
        "        data += [(open(os.path.join(analysis_area, filename), 'r', encoding='utf-8').read(), label) for filename in os.listdir(analysis_area)]\n",
        "    \n",
        "    random.shuffle(data)\n",
        "    return data\n",
        "\n",
        "train_data = data_loading(train_path)\n",
        "test_data = data_loading(test_path)\n",
        "\n",
        "print(f\"Size of the training dataset: {len(train_data)}\")\n",
        "print(f\"Size of the testing dataset: {len(test_data)}\")\n",
        "\n"
      ]
    },
    {
      "cell_type": "code",
      "execution_count": null,
      "id": "d8fe2f33",
      "metadata": {
        "id": "d8fe2f33"
      },
      "outputs": [
        {
          "name": "stdout",
          "output_type": "stream",
          "text": [
            "Number of NaN values in training data: 0\n",
            "Number of NaN values in testing data: 0\n",
            "Label: 0\n",
            "Review: producers film offer pay funeral expenses anyone dies fright watching movie offered intensive psychotherapy anyone really enjoyed stinker young couple moves house woman looks like woman couple lived extremely boring predictable end ended caring anyone movie br br avoid one costs\n",
            "-----\n",
            "Label: 1\n",
            "Review: imagine could anything wanted go anywhere wished anything ever dreamed thought alone imagine sharing gift love life would would powers worth soul dilemma presented captain christopher pike cage legendary pilot episode original star trek series famously deemed cerebral cold nbc brass rejected cage nevertheless ambitious costly pilot ever made history network time gene roddenberry want let effort expense go waste result truly classic star trek episode embeds cage frame story deepens extends emotional philosophical depth haunting tale landmark tv history one first truly serious sci fi stories ever filmed small screen star date 3012 uss enterprise diverts starbase 11 mr spock receives urgent message former commander enterprise surprisingly message cannot captain pike confined wheelchair mute horribly disfigured tragic accident kirk starbase commanding officer commodore mendez attempt get bottom mystery matter cleared spock reasons yet unknown commits act open mutiny kidnapping helpless captain pike hijacking enterprise via brilliantly thought timed plan aided vulcan nerve pinches soon enterprise headed remote forbidden planet talos iv mendez informs kirk talos iv interdiction contact planet starfleet vessels personnel carries immediate death sentence meaning spock appears deliberately destroying kirk well given captain held responsible ship activities appalled kirk mendez give chase shuttlecraft becomes dangerous enterprise refuses answer calls pick craft power oxygen nearly gone spock knowing kirk must one following ship course unable consign captain certain death ordering craft retrieved occupants beamed aboard spock reveals done mccoy demands arrested set starship irreversible course talos iv upon reassuming command kirk demands explanation whereupon spock requests immediate court martial tribunal starfleet commanding officers three board mendez kirk crippled invalid captain pike spock encyclopedic knowledge starfleet regulations enables manipulate tribunal allowing present otherwise inadmissible evidence spock presents video recordings contact ever made federation inhabitants talos iv journey taken 13 years earlier enterprise pike command kirk expresses doubts authenticity video due extreme detail reality events depicted confirmed pike turns lured talos iv distress call alleged survivors federation research vessel crashed 18 years previously among survivors vina stunning beauty said born disaster pike attracted girl allows lure isolated spot whereupon waylaid captured talosians race androgynous humanoids enormous cranial capacity power transform thoughts virtual reality pike capture rest survivors vanish none really existed except vina episode ends tribunal learns spock evidence fact transmitted enterprise directly talos iv violation starfleet regulations starfleet orders immediate halt transmissions wonder happen next continued review menagerie part ii\n",
            "-----\n",
            "Label: 1\n",
            "Review: 13 13 pretty intoxicated enjoy war seriously dedicated fan kinds brainless action films enjoy war otherwise bother saw movie today nephews 3 friends really loved made feel good movie kids nephews friends could stop thanking taking theater br br cg good acting directing horrible storyline extremely simple since half audience kids screaming shouting cheering every time dragons appeared screen made viewing experience far exciting br br good movie take kids except final battle sequence war disappointing give film 7 10 mainly kids loved much\n",
            "-----\n",
            "Label: 1\n",
            "Review: tremendous black white nighttime cinematography plenty highlights supposedly true life account 1950s murder kansas entire family wiped two men br br story written truman capote get liberal anti death penalty message end film ludicrous knowing facts case robert blake scott wilson play two atheist losers twisted outlooks life unnecessarily murder nice family br br despite annoying slant end riveting story start cinematography makes even fascinating famed photographer conrad hall fantastic job makes wish modern day films made black white see dvd br br blake wilson john forsythe jeff corey entire supporting cast excellent third viewing film came early april 2005 shortly blake real life pronounced innocent murder trial wife one help look blake film differently\n",
            "-----\n",
            "Label: 1\n",
            "Review: john waters given us genuinely enjoyable film certainly without shocking waters esque moments tamer older culty stuff pink flamingoes pecker harkens back john early mainstream stage reminds viewer kind humor evident polyester overall really fun comedy great moments\n",
            "-----\n"
          ]
        }
      ],
      "source": [
        "import re\n",
        "import string\n",
        "\n",
        "with open(r'LogisticReg_Dataset\\stop_words.txt', 'r') as file:\n",
        "    stop_words = set(file.read().splitlines())\n",
        "\n",
        "pattern = re.compile(f\"[{re.escape(string.punctuation)}]\")\n",
        "\n",
        "def text_preprocessing(text):\n",
        "    text = text.lower()\n",
        "    text = pattern.sub(\" \", text)\n",
        "    text = re.sub(r'\\s+', ' ', text).strip()\n",
        "    tokens = text.split()\n",
        "    tokens = [word for word in tokens if word not in stop_words]\n",
        "    \n",
        "    return ' '.join(tokens)\n",
        "\n",
        "def dataset_preprocessing(data):\n",
        "    processed_data = []\n",
        "    nan_count = 0\n",
        "\n",
        "    for review, label in data:\n",
        "        preprocessed_review = text_preprocessing(review)\n",
        "        if not preprocessed_review:\n",
        "            nan_count += 1\n",
        "            continue\n",
        "        processed_data.append((preprocessed_review, label))\n",
        "\n",
        "    return processed_data, nan_count\n",
        "\n",
        "train_data, nan_train_count = dataset_preprocessing(train_data)\n",
        "test_data, nan_test_count = dataset_preprocessing(test_data)\n",
        "\n",
        "print(f\"Number of NaN values in training data: {nan_train_count}\")\n",
        "print(f\"Number of NaN values in testing data: {nan_test_count}\")\n",
        "for review, label in train_data[-5:]:\n",
        "    print(\"Label:\", label)\n",
        "    print(\"Review:\", review)\n",
        "    print(\"-----\")\n",
        "# print(train_data[0])\n"
      ]
    },
    {
      "cell_type": "code",
      "execution_count": null,
      "id": "54337fe5",
      "metadata": {
        "id": "54337fe5"
      },
      "outputs": [
        {
          "name": "stdout",
          "output_type": "stream",
          "text": [
            "Five positive class datapoints:\n",
            "Positive Words Count: 11, Negative Words Count: 4, Label: 1\n",
            "Positive Words Count: 5, Negative Words Count: 2, Label: 1\n",
            "Positive Words Count: 6, Negative Words Count: 4, Label: 1\n",
            "Positive Words Count: 10, Negative Words Count: 14, Label: 1\n",
            "Positive Words Count: 8, Negative Words Count: 3, Label: 1\n",
            "\n",
            "Five negative class datapoints:\n",
            "Positive Words Count: 5, Negative Words Count: 29, Label: 0\n",
            "Positive Words Count: 21, Negative Words Count: 38, Label: 0\n",
            "Positive Words Count: 4, Negative Words Count: 3, Label: 0\n",
            "Positive Words Count: 8, Negative Words Count: 13, Label: 0\n",
            "Positive Words Count: 7, Negative Words Count: 10, Label: 0\n"
          ]
        }
      ],
      "source": [
        "\n",
        "\n",
        "with open(r'LogisticReg_Dataset\\positive_words.txt', 'r') as file:\n",
        "    positive_words = set(file.read().splitlines())\n",
        "\n",
        "with open(r'LogisticReg_Dataset\\negative_words.txt', 'r') as file:\n",
        "    negative_words = set(file.read().splitlines())\n",
        "\n",
        "def extract_features(text):\n",
        "    tokens = set(text.split())\n",
        "    \n",
        "    positive_count = len(tokens & positive_words)\n",
        "    negative_count = len(tokens & negative_words)\n",
        "    \n",
        "    return positive_count, negative_count\n",
        "\n",
        "train_data_features = [(extract_features(review), label) for review, label in train_data]\n",
        "\n",
        "positive_data_points = [data for data in train_data_features if data[1] == 1]\n",
        "negative_data_points = [data for data in train_data_features if data[1] == 0]\n",
        "\n",
        "print(\"Five positive class datapoints:\")\n",
        "for features, label in positive_data_points[:5]:\n",
        "    print(f\"Positive Words Count: {features[0]}, Negative Words Count: {features[1]}, Label: {label}\")\n",
        "\n",
        "print(\"\\nFive negative class datapoints:\")\n",
        "for features, label in negative_data_points[:5]:\n",
        "    print(f\"Positive Words Count: {features[0]}, Negative Words Count: {features[1]}, Label: {label}\")\n"
      ]
    },
    {
      "cell_type": "code",
      "execution_count": 4,
      "id": "43b474ff",
      "metadata": {
        "id": "43b474ff"
      },
      "outputs": [],
      "source": [
        "import random\n",
        "\n",
        "indices = list(range(len(train_data_features)))\n",
        "random.seed(42)  \n",
        "random.shuffle(indices)\n",
        "\n",
        "split_index = int(0.9 * len(train_data_features))\n",
        "train_indices = indices[:split_index]\n",
        "eval_indices = indices[split_index:]\n",
        "train_features_final = [train_data_features[i] for i in train_indices]\n",
        "train_labels_final = [[label for _, label in train_data_features][i] for i in train_indices]\n",
        "eval_features = [train_data_features[i] for i in eval_indices]\n",
        "eval_labels = [[label for _, label in train_data_features][i] for i in eval_indices]\n",
        "\n",
        "# print(f\"Size of the final training dataset: {len(train_features_final)}\")\n",
        "# print(f\"Size of the evaluation dataset: {len(eval_features)}\")\n",
        "# print(train_features_final[0])  \n",
        "\n"
      ]
    },
    {
      "cell_type": "markdown",
      "id": "331017de",
      "metadata": {
        "id": "331017de"
      },
      "source": [
        "### Implementation from Scratch"
      ]
    },
    {
      "cell_type": "code",
      "execution_count": 5,
      "id": "794011ae",
      "metadata": {
        "id": "794011ae"
      },
      "outputs": [],
      "source": [
        "import numpy as np\n",
        "from tqdm import tqdm\n",
        "import matplotlib.pyplot as plt\n",
        "\n",
        "class LogisticRegression:\n",
        "    def __init__(self, learning_rate=0.01, epochs=100):\n",
        "        self.learning_rate = learning_rate  # Step size for each iteration in gradient descent\n",
        "        self.epochs = epochs  # Number of iterations for training\n",
        "        self.weights = None\n",
        "        self.bias = None\n",
        "        self.train_losses = []  # List to store training loss values over epochs\n",
        "        self.validation_losses = []  # List to store validation loss values over epochs\n",
        "\n",
        "    def sigmoid(self, z):\n",
        "        return 1 / (1 + np.exp(-z))  # Sigmoid activation function\n",
        "\n",
        "    def cross_entropy_loss(self, y_true, y_pred):\n",
        "        epsilon = 1e-15\n",
        "        y_pred = np.clip(y_pred, epsilon, 1 - epsilon)  # Clip values to prevent log(0) and log(1)\n",
        "        # Compute binary Cross-Entropy loss using NumPy's dot product for efficiency\n",
        "        loss = -(np.dot(y_true, np.log(y_pred)) + np.dot(1 - y_true, np.log(1 - y_pred))) / len(y_true)\n",
        "        return loss\n",
        "\n",
        "    def fit(self, x_train, y_train, x_val=None, y_val=None):\n",
        "        num_features = x_train.shape[1] #No. of features in training data\n",
        "        self.weights = np.zeros(num_features)  # Initialize weights with zeros\n",
        "        self.bias = 0  # Initialize bias to 0\n",
        "        \n",
        "        for _ in tqdm(range(self.epochs), desc=\"Training Progress\"):\n",
        "            model = np.dot(x_train, self.weights) + self.bias  # [n_samples, n_features] dot [n_features,] -> [n_samples,]\n",
        "            predictions = self.sigmoid(model)  # Apply sigmoid activation to get probabilities, shape remains [n_samples,]\n",
        "            \n",
        "            train_loss = self.cross_entropy_loss(y_train, predictions)\n",
        "            self.train_losses.append(train_loss)  # Store the training loss\n",
        "            \n",
        "            # If validation data is provided\n",
        "            if x_val is not None and y_val is not None:\n",
        "                val_model = np.dot(x_val, self.weights) + self.bias # [n_samples, n_features] dot [n_features,] -> [n_samples,]\n",
        "                val_predictions = self.sigmoid(val_model)\n",
        "                val_loss = self.cross_entropy_loss(y_val, val_predictions)\n",
        "                self.validation_losses.append(val_loss)  # Store the validation loss\n",
        "\n",
        "            # Compute the gradient\n",
        "            dw = (1 / len(y_train)) * np.dot(x_train.T, (predictions - y_train)) # [n_features, n_samples] dot [n_samples,] -> [n_features,]\n",
        "            db = (1 / len(y_train)) * np.sum(predictions - y_train) #scalar value\n",
        "\n",
        "            # Update weights and bias using gradient descent\n",
        "            self.weights -= self.learning_rate * dw\n",
        "            self.bias -= self.learning_rate * db\n",
        "\n",
        "    def predict(self, x_test):\n",
        "        model = np.dot(x_test, self.weights) + self.bias # [n_samples, n_features] dot [n_features,] -> [n_samples,]\n",
        "        predictions = self.sigmoid(model) #shape remains [n_samples,]\n",
        "        y_pred = [1 if i > 0.5 else 0 for i in predictions]  # Convert probabilities to binary labels\n",
        "        return y_pred\n",
        "\n",
        "    #     return accuracy, f1, confusion\n",
        "    def calculate_accuracy(self,predicted_labels, true_labels):\n",
        "        return np.mean(np.array(predicted_labels)==np.array(true_labels))\n",
        "    \n",
        "    def make_confusion_matrix(self,predicted_labels, true_labels):\n",
        "        num_classes = len(np.unique(true_labels))\n",
        "        confusion_matrix = np.zeros((num_classes, num_classes), dtype=int)\n",
        "        for true_label, predicted_label in zip(true_labels, predicted_labels):\n",
        "            confusion_matrix[true_label, predicted_label] += 1\n",
        "        return confusion_matrix\n",
        "    \n",
        "    def calculate_precision(self,confusion_matrix,class_label):\n",
        "        col_sum = np.sum(confusion_matrix[:, class_label])\n",
        "        return 0 if col_sum == 0 else confusion_matrix[class_label, class_label] / col_sum\n",
        "    \n",
        "    def calculate_recall(self,confusion_matrix,class_label):\n",
        "        row_sum = np.sum(confusion_matrix[class_label, :])\n",
        "        return 0 if row_sum == 0 else confusion_matrix[class_label, class_label] / row_sum\n",
        "\n",
        "    def calculate_f1_score(self,precision, recall):\n",
        "        return 0 if precision + recall == 0 else 2 * (precision * recall) / (precision + recall)\n",
        "    \n",
        "    def evaluate(self, y_true, y_pred):\n",
        "        # Calculate Accuracy\n",
        "        accuracy = self.calculate_accuracy(y_pred, y_true)\n",
        "        # Calculate Confusion Matrix\n",
        "        confusion = self.make_confusion_matrix(y_pred, y_true)\n",
        "        # We'll compute F1 score only for class_label = 1 (binary class problem)\n",
        "        precision_val = self.calculate_precision(confusion, 1)\n",
        "        recall_val = self.calculate_recall(confusion, 1)\n",
        "        f1 = self.calculate_f1_score(precision_val, recall_val)\n",
        "\n",
        "        return accuracy, f1, confusion\n",
        "    \n",
        "    def plot_losses(self):\n",
        "        plt.figure(figsize=(10, 6))\n",
        "        plt.plot(self.train_losses, label=\"Training Loss\", color='yellow')\n",
        "        plt.plot(self.validation_losses, label=\"Validation Loss\", color='purple', linestyle='dashdot')\n",
        "        plt.xlabel(\"Epochs\")\n",
        "        plt.ylabel(\"Loss\")\n",
        "        plt.title(\"Training/Validation Loss over Epochs\")\n",
        "        plt.legend()\n",
        "        plt.show()  # Plot training and validation losses over epochs\n"
      ]
    },
    {
      "cell_type": "code",
      "execution_count": 6,
      "id": "2c55a386",
      "metadata": {
        "id": "2c55a386"
      },
      "outputs": [
        {
          "name": "stderr",
          "output_type": "stream",
          "text": [
            "Training Progress:   0%|          | 0/5000 [00:00<?, ?it/s]"
          ]
        },
        {
          "name": "stderr",
          "output_type": "stream",
          "text": [
            "Training Progress: 100%|██████████| 5000/5000 [00:07<00:00, 670.95it/s]\n"
          ]
        },
        {
          "data": {
            "image/png": "[encoded data removed]",
            "text/plain": [
              "<Figure size 1000x600 with 1 Axes>"
            ]
          },
          "metadata": {},
          "output_type": "display_data"
        }
      ],
      "source": [
        "train_Xvals = [item[0] for item in train_features_final]\n",
        "train_Yvals = [item[1] for item in train_features_final]\n",
        "# print(train_Xvals[0])\n",
        "eval_Xvals = [item[0] for item in eval_features]\n",
        "eval_Yvals = [item[1] for item in eval_features]\n",
        "# print(len(eval_Xvals))\n",
        "# print(eval_Xvals)\n",
        "# print(eval_data.shape)\n",
        "\n",
        "model = LogisticRegression(learning_rate=0.001, epochs=5000)\n",
        "model.fit(np.array(train_Xvals,dtype=float), np.array(train_Yvals,dtype=float), np.array(eval_Xvals,dtype=float), np.array(eval_Yvals,dtype=float))\n",
        "model.plot_losses()"
      ]
    },
    {
      "cell_type": "code",
      "execution_count": 7,
      "id": "4b2d1d5a",
      "metadata": {
        "id": "4b2d1d5a"
      },
      "outputs": [
        {
          "name": "stdout",
          "output_type": "stream",
          "text": [
            "Accuracy: 73.00%\n",
            "F1 Score: 0.7384\n",
            "Confusion Matrix:\n",
            "[[8723 3777]\n",
            " [2974 9526]]\n"
          ]
        },
        {
          "data": {
            "image/png": "[encoded data removed]",
            "text/plain": [
              "<Figure size 1000x700 with 2 Axes>"
            ]
          },
          "metadata": {},
          "output_type": "display_data"
        }
      ],
      "source": [
        "import seaborn as sns\n",
        "feature_data_test = [(extract_features(review), label) for review, label in test_data]\n",
        "test_Xvals = [item[0] for item in feature_data_test]\n",
        "test_Yvals = [item[1] for item in feature_data_test]\n",
        "# print((test_Xvals[0]))\n",
        "\n",
        "pred_Yvals = model.predict(np.array(test_Xvals))\n",
        "\n",
        "accuracy, f1, confusion = model.evaluate(test_Yvals, pred_Yvals)\n",
        "\n",
        "print(f\"Accuracy: {accuracy*100:.2f}%\")\n",
        "print(f\"F1 Score: {f1:.4f}\")\n",
        "print(\"Confusion Matrix:\")\n",
        "print(confusion)\n",
        "def make_heat_map(data, title):\n",
        "    plt.figure(figsize=(10, 7))\n",
        "    sns.heatmap(data, annot=True, fmt=\"d\", cmap=\"YlGnBu\")\n",
        "    plt.xlabel('Predicted Labels')\n",
        "    plt.ylabel('True Labels')\n",
        "    plt.title(title)\n",
        "    plt.show()\n",
        "make_heat_map(confusion,title='Confusion Matrix for Logistic Regression')\n"
      ]
    },
    {
      "cell_type": "markdown",
      "id": "dc1f0697",
      "metadata": {
        "id": "dc1f0697"
      },
      "source": [
        "### Use Scikit-learn"
      ]
    },
    {
      "cell_type": "code",
      "execution_count": 8,
      "id": "c7893b68",
      "metadata": {
        "id": "c7893b68"
      },
      "outputs": [
        {
          "name": "stdout",
          "output_type": "stream",
          "text": [
            "Accuracy: 73.2880\n",
            "F1 Score: 0.7306\n",
            "Confusion Matrix:\n",
            "[[9269 3231]\n",
            " [3447 9053]]\n"
          ]
        }
      ],
      "source": [
        "from sklearn.linear_model import LogisticRegression\n",
        "from sklearn.metrics import accuracy_score, f1_score, confusion_matrix\n",
        "from sklearn.model_selection import train_test_split\n",
        "\n",
        "train_data_final, _, _, _ = train_test_split(train_data_features,[label for _, label in train_data_features],test_size=0.1,random_state=10,stratify=[label for _, label in train_data_features])\n",
        "train_Xvals = [item[0] for item in train_data_final]\n",
        "train_Yvals = [item[1] for item in train_data_final]\n",
        "model = LogisticRegression(random_state=42).fit(train_Xvals, train_Yvals)\n",
        "y_pred = model.predict(test_Xvals)\n",
        "accuracy = accuracy_score(test_Yvals, y_pred)\n",
        "print(f\"Accuracy: {accuracy*100:.4f}\")\n",
        "f1 = f1_score(test_Yvals, y_pred)\n",
        "print(f\"F1 Score: {f1:.4f}\")\n",
        "conf_matrix = confusion_matrix(test_Yvals, y_pred)\n",
        "print(\"Confusion Matrix:\")\n",
        "print(conf_matrix)\n"
      ]
    }
  ],
  "metadata": {
    "colab": {
      "provenance": []
    },
    "kernelspec": {
      "display_name": "Python 3 (ipykernel)",
      "language": "python",
      "name": "python3"
    },
    "language_info": {
      "codemirror_mode": {
        "name": "ipython",
        "version": 3
      },
      "file_extension": ".py",
      "mimetype": "text/x-python",
      "name": "python",
      "nbconvert_exporter": "python",
      "pygments_lexer": "ipython3",
      "version": "3.11.1"
    }
  },
  "nbformat": 4,
  "nbformat_minor": 5
}
